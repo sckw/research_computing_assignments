{
 "cells": [
  {
   "cell_type": "markdown",
   "metadata": {},
   "source": [
    "## Homework: Introduction to Python \n",
    "\n",
    "**Due: Thursday, Sept. 21**\n",
    "\n",
    "Your assignment should be handed in an ipython notebook checked into your github repository.\n",
    "\n",
    "## Optional But Recommended Reading\n",
    "\n",
    "Read the official [Python Tutorial](https://docs.python.org/3/tutorial/index.html) sections 1-5. This excellent, well written tutorial introduces all of the most important concepts of the core python language and its standard library. Even if you don't read it, you should know where to find it; if you get stuck, it should be your first place to turn for help.\n",
    "\n",
    "## Constraints\n",
    "\n",
    "* This assignment should be done in _basic python_: don't `import` any extra modules unless specifically instructed to do so.\n",
    "* You should work on this assignment _alone_. \n",
    "* Try to do the problems yourself. Refer to the lecture notes and the [Python Tutorial](https://docs.python.org/3/tutorial/index.html) if you get stuck. Avoid random googling and stack-overflowing. A perfect solution is less important than the process of figuring it out yourself.\n"
   ]
  },
  {
   "cell_type": "markdown",
   "metadata": {},
   "source": [
    "## 1. Dictionaries and Strings"
   ]
  },
  {
   "cell_type": "markdown",
   "metadata": {},
   "source": [
    "In this section we will explore a [dictionary](https://docs.python.org/3/tutorial/datastructures.html#dictionaries) whose keys and values are [strings](https://docs.python.org/3/tutorial/introduction.html#strings). \n",
    "\n",
    "Cut and paste the following code to read a data file. (You are not expected to understand exactly what is happening here...it's just a quick way for us to get some data into python.)\n",
    "\n",
    "    import pickle\n",
    "    with open('class_names.pkl', 'rb') as file:\n",
    "        data = pickle.load(file)\n",
    "\n",
    "This will load some pre-generated data into the variable `data`. "
   ]
  },
  {
   "cell_type": "code",
   "execution_count": 72,
   "metadata": {
    "collapsed": true
   },
   "outputs": [],
   "source": [
    "import pickle\n",
    "with open('class_names.pkl', 'rb') as file:\n",
    "    data = pickle.load(file)"
   ]
  },
  {
   "cell_type": "markdown",
   "metadata": {},
   "source": [
    "### 1.1 Examine the data by allowing the notebook to print it\n",
    "(Just enter `data` on the last line of the cell and execute it.)"
   ]
  },
  {
   "cell_type": "code",
   "execution_count": 73,
   "metadata": {},
   "outputs": [
    {
     "data": {
      "text/plain": [
       "{'akb2134': 'Bozack, Anne',\n",
       " 'cjc2252': 'Carchedi, Christopher',\n",
       " 'cjc2256': 'Chesley, Christine',\n",
       " 'cjm2246': 'Martinez-Zayas, Carlos',\n",
       " 'cp2850': 'Peltier, Carly',\n",
       " 'cr2630': 'Raymond, Colin',\n",
       " 'csl2164': 'Lesk, Corey',\n",
       " 'djk2120': 'Kennedy, Daniel',\n",
       " 'dpb2141': 'Babin, Daniel',\n",
       " 'ehc2150': 'Case, Elizabeth',\n",
       " 'jg3223': 'Guo, Jean',\n",
       " 'jwd2136': 'Doss-Gollin, James',\n",
       " 'lkg2133': 'Gruenburg, Laura',\n",
       " 'map2251': 'Pascolini-Campbell, Madeleine',\n",
       " 'meg2203': 'Gemma, Marina',\n",
       " 'mmf2171': 'Frenkel, Megan',\n",
       " 'njl2134': 'Lenssen, Nathan',\n",
       " 'nr2447': 'Ramesh, Nandini',\n",
       " 'rae2148': 'Esparzagamez, Ricardo',\n",
       " 'sb3210': 'Baek, Seung Hun',\n",
       " 'scw2148': 'Wong, Suki',\n",
       " 'sel2172': 'Lytle, Sara',\n",
       " 'sw2936': 'Wang, Siyan',\n",
       " 'tpj2104': 'Janoski, Tyler',\n",
       " 'tz2218': 'Zhang, Tianbo',\n",
       " 'ukm2103': 'Miller, Una',\n",
       " 'xj2176': 'Jin, Xiaomeng',\n",
       " 'yh3019': 'Huang, Yu'}"
      ]
     },
     "execution_count": 73,
     "metadata": {},
     "output_type": "execute_result"
    }
   ],
   "source": [
    "data"
   ]
  },
  {
   "cell_type": "markdown",
   "metadata": {},
   "source": [
    "## 1.2 Comare to the output of `print(data)`\n",
    "Which one is prettier?"
   ]
  },
  {
   "cell_type": "code",
   "execution_count": 74,
   "metadata": {},
   "outputs": [
    {
     "name": "stdout",
     "output_type": "stream",
     "text": [
      "{'dpb2141': 'Babin, Daniel', 'sb3210': 'Baek, Seung Hun', 'akb2134': 'Bozack, Anne', 'cjc2252': 'Carchedi, Christopher', 'ehc2150': 'Case, Elizabeth', 'cjc2256': 'Chesley, Christine', 'jwd2136': 'Doss-Gollin, James', 'rae2148': 'Esparzagamez, Ricardo', 'mmf2171': 'Frenkel, Megan', 'meg2203': 'Gemma, Marina', 'lkg2133': 'Gruenburg, Laura', 'jg3223': 'Guo, Jean', 'yh3019': 'Huang, Yu', 'tpj2104': 'Janoski, Tyler', 'xj2176': 'Jin, Xiaomeng', 'djk2120': 'Kennedy, Daniel', 'njl2134': 'Lenssen, Nathan', 'csl2164': 'Lesk, Corey', 'sel2172': 'Lytle, Sara', 'cjm2246': 'Martinez-Zayas, Carlos', 'ukm2103': 'Miller, Una', 'map2251': 'Pascolini-Campbell, Madeleine', 'cp2850': 'Peltier, Carly', 'nr2447': 'Ramesh, Nandini', 'cr2630': 'Raymond, Colin', 'sw2936': 'Wang, Siyan', 'scw2148': 'Wong, Suki', 'tz2218': 'Zhang, Tianbo'}\n"
     ]
    }
   ],
   "source": [
    "print(data)"
   ]
  },
  {
   "cell_type": "markdown",
   "metadata": {},
   "source": [
    "**Answer:** I think just executing 'data' is more organised."
   ]
  },
  {
   "cell_type": "markdown",
   "metadata": {},
   "source": [
    "### 1.3 Determine what type of object is `data`"
   ]
  },
  {
   "cell_type": "code",
   "execution_count": 75,
   "metadata": {},
   "outputs": [
    {
     "data": {
      "text/plain": [
       "dict"
      ]
     },
     "execution_count": 75,
     "metadata": {},
     "output_type": "execute_result"
    }
   ],
   "source": [
    "type(data)"
   ]
  },
  {
   "cell_type": "markdown",
   "metadata": {},
   "source": [
    "**Answer:** `data` is a dictionary"
   ]
  },
  {
   "cell_type": "markdown",
   "metadata": {},
   "source": [
    "### 1.4 Use python's built-in `help` function to find out what operations are available on `data`\n",
    "(What is the meaning of the methods that start with \\__?)"
   ]
  },
  {
   "cell_type": "markdown",
   "metadata": {},
   "source": [
    "**Answer:** Methods that start with __  are names of Python's own defined methods."
   ]
  },
  {
   "cell_type": "code",
   "execution_count": 76,
   "metadata": {
    "scrolled": false
   },
   "outputs": [
    {
     "name": "stdout",
     "output_type": "stream",
     "text": [
      "Help on class dict in module builtins:\n",
      "\n",
      "class dict(object)\n",
      " |  dict() -> new empty dictionary\n",
      " |  dict(mapping) -> new dictionary initialized from a mapping object's\n",
      " |      (key, value) pairs\n",
      " |  dict(iterable) -> new dictionary initialized as if via:\n",
      " |      d = {}\n",
      " |      for k, v in iterable:\n",
      " |          d[k] = v\n",
      " |  dict(**kwargs) -> new dictionary initialized with the name=value pairs\n",
      " |      in the keyword argument list.  For example:  dict(one=1, two=2)\n",
      " |  \n",
      " |  Methods defined here:\n",
      " |  \n",
      " |  __contains__(self, key, /)\n",
      " |      True if D has a key k, else False.\n",
      " |  \n",
      " |  __delitem__(self, key, /)\n",
      " |      Delete self[key].\n",
      " |  \n",
      " |  __eq__(self, value, /)\n",
      " |      Return self==value.\n",
      " |  \n",
      " |  __ge__(self, value, /)\n",
      " |      Return self>=value.\n",
      " |  \n",
      " |  __getattribute__(self, name, /)\n",
      " |      Return getattr(self, name).\n",
      " |  \n",
      " |  __getitem__(...)\n",
      " |      x.__getitem__(y) <==> x[y]\n",
      " |  \n",
      " |  __gt__(self, value, /)\n",
      " |      Return self>value.\n",
      " |  \n",
      " |  __init__(self, /, *args, **kwargs)\n",
      " |      Initialize self.  See help(type(self)) for accurate signature.\n",
      " |  \n",
      " |  __iter__(self, /)\n",
      " |      Implement iter(self).\n",
      " |  \n",
      " |  __le__(self, value, /)\n",
      " |      Return self<=value.\n",
      " |  \n",
      " |  __len__(self, /)\n",
      " |      Return len(self).\n",
      " |  \n",
      " |  __lt__(self, value, /)\n",
      " |      Return self<value.\n",
      " |  \n",
      " |  __ne__(self, value, /)\n",
      " |      Return self!=value.\n",
      " |  \n",
      " |  __new__(*args, **kwargs) from builtins.type\n",
      " |      Create and return a new object.  See help(type) for accurate signature.\n",
      " |  \n",
      " |  __repr__(self, /)\n",
      " |      Return repr(self).\n",
      " |  \n",
      " |  __setitem__(self, key, value, /)\n",
      " |      Set self[key] to value.\n",
      " |  \n",
      " |  __sizeof__(...)\n",
      " |      D.__sizeof__() -> size of D in memory, in bytes\n",
      " |  \n",
      " |  clear(...)\n",
      " |      D.clear() -> None.  Remove all items from D.\n",
      " |  \n",
      " |  copy(...)\n",
      " |      D.copy() -> a shallow copy of D\n",
      " |  \n",
      " |  fromkeys(iterable, value=None, /) from builtins.type\n",
      " |      Returns a new dict with keys from iterable and values equal to value.\n",
      " |  \n",
      " |  get(...)\n",
      " |      D.get(k[,d]) -> D[k] if k in D, else d.  d defaults to None.\n",
      " |  \n",
      " |  items(...)\n",
      " |      D.items() -> a set-like object providing a view on D's items\n",
      " |  \n",
      " |  keys(...)\n",
      " |      D.keys() -> a set-like object providing a view on D's keys\n",
      " |  \n",
      " |  pop(...)\n",
      " |      D.pop(k[,d]) -> v, remove specified key and return the corresponding value.\n",
      " |      If key is not found, d is returned if given, otherwise KeyError is raised\n",
      " |  \n",
      " |  popitem(...)\n",
      " |      D.popitem() -> (k, v), remove and return some (key, value) pair as a\n",
      " |      2-tuple; but raise KeyError if D is empty.\n",
      " |  \n",
      " |  setdefault(...)\n",
      " |      D.setdefault(k[,d]) -> D.get(k,d), also set D[k]=d if k not in D\n",
      " |  \n",
      " |  update(...)\n",
      " |      D.update([E, ]**F) -> None.  Update D from dict/iterable E and F.\n",
      " |      If E is present and has a .keys() method, then does:  for k in E: D[k] = E[k]\n",
      " |      If E is present and lacks a .keys() method, then does:  for k, v in E: D[k] = v\n",
      " |      In either case, this is followed by: for k in F:  D[k] = F[k]\n",
      " |  \n",
      " |  values(...)\n",
      " |      D.values() -> an object providing a view on D's values\n",
      " |  \n",
      " |  ----------------------------------------------------------------------\n",
      " |  Data and other attributes defined here:\n",
      " |  \n",
      " |  __hash__ = None\n",
      "\n"
     ]
    }
   ],
   "source": [
    "help(dict)"
   ]
  },
  {
   "cell_type": "markdown",
   "metadata": {},
   "source": [
    "By now it should be clear that `data` is a [dict](https://docs.python.org/3/library/stdtypes.html#mapping-types-dict)  (i.e. \"dictionary\") that maps UNIs to names for all students in the class.\n",
    "\n",
    "For the remaining questions, the point is to _have python tell you the answer_. (Obviously you could just manually count / sort the data, but that defeats the purpose!)\n",
    "\n",
    "### 1.5 How many entries are there in `data`"
   ]
  },
  {
   "cell_type": "code",
   "execution_count": 77,
   "metadata": {},
   "outputs": [
    {
     "data": {
      "text/plain": [
       "28"
      ]
     },
     "execution_count": 77,
     "metadata": {},
     "output_type": "execute_result"
    }
   ],
   "source": [
    "len(data) #neat count"
   ]
  },
  {
   "cell_type": "code",
   "execution_count": 78,
   "metadata": {},
   "outputs": [
    {
     "name": "stdout",
     "output_type": "stream",
     "text": [
      "28\n"
     ]
    }
   ],
   "source": [
    "#does a basic count of data\n",
    "entries = 0\n",
    "for i in data:\n",
    "    entries +=1\n",
    "print(entries)"
   ]
  },
  {
   "cell_type": "markdown",
   "metadata": {},
   "source": [
    "There are 28 entries in data, which means there are 28 students in the class."
   ]
  },
  {
   "cell_type": "markdown",
   "metadata": {},
   "source": [
    "### 1.6 Is your UNI in `data`?"
   ]
  },
  {
   "cell_type": "markdown",
   "metadata": {},
   "source": [
    "Referred to help(dict) for a boolean method which searches through the dictionary for a key."
   ]
  },
  {
   "cell_type": "code",
   "execution_count": 80,
   "metadata": {},
   "outputs": [
    {
     "data": {
      "text/plain": [
       "True"
      ]
     },
     "execution_count": 80,
     "metadata": {},
     "output_type": "execute_result"
    }
   ],
   "source": [
    "'scw2148' in data"
   ]
  },
  {
   "cell_type": "markdown",
   "metadata": {},
   "source": [
    "### 1.7 How many total times does the character \"s\" appear in the names?\n",
    "Do this in a way that is not case sensitive,"
   ]
  },
  {
   "cell_type": "code",
   "execution_count": 81,
   "metadata": {},
   "outputs": [
    {
     "name": "stdout",
     "output_type": "stream",
     "text": [
      "20\n"
     ]
    }
   ],
   "source": [
    "values = data.values()\n",
    "count = 0\n",
    "for names in values:\n",
    "    count += names.count('s')\n",
    "    count += names.count('S')\n",
    "print(count)"
   ]
  },
  {
   "cell_type": "code",
   "execution_count": 82,
   "metadata": {},
   "outputs": [
    {
     "name": "stdout",
     "output_type": "stream",
     "text": [
      "20\n"
     ]
    }
   ],
   "source": [
    "#Without for loop\n",
    "names = list(data.values())\n",
    "names = ''.join(names)\n",
    "total = names.count('s') + names.count('S')\n",
    "print(total)"
   ]
  },
  {
   "cell_type": "markdown",
   "metadata": {},
   "source": [
    "### 1.7 Create a new dictionary that contains the same keys but only the first names as values"
   ]
  },
  {
   "cell_type": "code",
   "execution_count": 599,
   "metadata": {
    "scrolled": false
   },
   "outputs": [
    {
     "data": {
      "text/plain": [
       "{'akb2134': 'Anne',\n",
       " 'cjc2252': 'Christopher',\n",
       " 'cjc2256': 'Christine',\n",
       " 'cjm2246': 'Carlos',\n",
       " 'cp2850': 'Carly',\n",
       " 'cr2630': 'Colin',\n",
       " 'csl2164': 'Corey',\n",
       " 'djk2120': 'Daniel',\n",
       " 'dpb2141': 'Daniel',\n",
       " 'ehc2150': 'Elizabeth',\n",
       " 'jg3223': 'Jean',\n",
       " 'jwd2136': 'James',\n",
       " 'lkg2133': 'Laura',\n",
       " 'map2251': 'Madeleine',\n",
       " 'meg2203': 'Marina',\n",
       " 'mmf2171': 'Megan',\n",
       " 'njl2134': 'Nathan',\n",
       " 'nr2447': 'Nandini',\n",
       " 'rae2148': 'Ricardo',\n",
       " 'sb3210': 'Seung Hun',\n",
       " 'scw2148': 'Suki',\n",
       " 'sel2172': 'Sara',\n",
       " 'sw2936': 'Siyan',\n",
       " 'tpj2104': 'Tyler',\n",
       " 'tz2218': 'Tianbo',\n",
       " 'ukm2103': 'Una',\n",
       " 'xj2176': 'Xiaomeng',\n",
       " 'yh3019': 'Yu'}"
      ]
     },
     "execution_count": 599,
     "metadata": {},
     "output_type": "execute_result"
    }
   ],
   "source": [
    "#Concise way\n",
    "forename = [names.split(', ')[1] for names in data.values()]\n",
    "new_data = dict(zip(data.keys(),forename))\n",
    "new_data"
   ]
  },
  {
   "cell_type": "code",
   "execution_count": 600,
   "metadata": {},
   "outputs": [
    {
     "data": {
      "text/plain": [
       "{'akb2134': 'Anne',\n",
       " 'cjc2252': 'Christopher',\n",
       " 'cjc2256': 'Christine',\n",
       " 'cjm2246': 'Carlos',\n",
       " 'cp2850': 'Carly',\n",
       " 'cr2630': 'Colin',\n",
       " 'csl2164': 'Corey',\n",
       " 'djk2120': 'Daniel',\n",
       " 'dpb2141': 'Daniel',\n",
       " 'ehc2150': 'Elizabeth',\n",
       " 'jg3223': 'Jean',\n",
       " 'jwd2136': 'James',\n",
       " 'lkg2133': 'Laura',\n",
       " 'map2251': 'Madeleine',\n",
       " 'meg2203': 'Marina',\n",
       " 'mmf2171': 'Megan',\n",
       " 'njl2134': 'Nathan',\n",
       " 'nr2447': 'Nandini',\n",
       " 'rae2148': 'Ricardo',\n",
       " 'sb3210': 'Seung Hun',\n",
       " 'scw2148': 'Suki',\n",
       " 'sel2172': 'Sara',\n",
       " 'sw2936': 'Siyan',\n",
       " 'tpj2104': 'Tyler',\n",
       " 'tz2218': 'Tianbo',\n",
       " 'ukm2103': 'Una',\n",
       " 'xj2176': 'Xiaomeng',\n",
       " 'yh3019': 'Yu'}"
      ]
     },
     "execution_count": 600,
     "metadata": {},
     "output_type": "execute_result"
    }
   ],
   "source": [
    "#longer way without using a separator\n",
    "full_names=[val for val in values] #Make a list, as you can't index dict_values\n",
    "    \n",
    "forename=[]\n",
    "\n",
    "for i in range(0,len(full_names)):\n",
    "    count = 0\n",
    "    for char in full_names[i]:\n",
    "        if char is ' ':\n",
    "            break\n",
    "        else:\n",
    "            count += 1\n",
    "    forename.append(full_names[i][count+1:])\n",
    "    \n",
    "new_data = dict(zip(data.keys(),forename))\n",
    "new_data"
   ]
  },
  {
   "cell_type": "markdown",
   "metadata": {},
   "source": [
    "### 1.8 What is the longest first name?"
   ]
  },
  {
   "cell_type": "code",
   "execution_count": 606,
   "metadata": {},
   "outputs": [
    {
     "name": "stdout",
     "output_type": "stream",
     "text": [
      "Christopher\n"
     ]
    }
   ],
   "source": [
    "name_lengths = [len(i) for i in forename]\n",
    "\n",
    "for i in range(len(name_lengths)):\n",
    "    if name_lengths[i] is max(name_lengths):\n",
    "        print(forename[i])"
   ]
  },
  {
   "cell_type": "markdown",
   "metadata": {},
   "source": [
    "### 1.9 Check that the first letter of each UNI matches the first letter of each first name\n",
    "(Be careful about the case.)"
   ]
  },
  {
   "cell_type": "code",
   "execution_count": 611,
   "metadata": {},
   "outputs": [
    {
     "name": "stdout",
     "output_type": "stream",
     "text": [
      "All match\n"
     ]
    }
   ],
   "source": [
    "UNI = [key for key in data.keys()]\n",
    "\n",
    "for i in range(len(UNI)):\n",
    "    if UNI[i][0].startswith(forename[i][0].lower()) is True:\n",
    "        print('All match')\n",
    "        break\n",
    "    else:\n",
    "        print('MISMATCH! between '+forename[i]+ 'and '+UNI[i])"
   ]
  },
  {
   "cell_type": "markdown",
   "metadata": {},
   "source": [
    "## 2 Lists and Numbers\n",
    "\n",
    "In this section, we will play with a [list](https://docs.python.org/3/tutorial/introduction.html#lists) of [numbers](https://docs.python.org/3/tutorial/introduction.html#numbers).\n",
    "\n",
    "Keep in mind that doing lots of numerical calculations on lists of numbers (using just core python) is somewhat awkward and inefficient. [Numpy](http://www.numpy.org/) makes this sort of work much easier; in order to appreciate numpy, however, it is useful to first do things the \"hard way\".\n",
    "\n",
    "Run this chunk of code to load some data.\n",
    "\n",
    "    with open('numbers.pkl', 'rb') as file:\n",
    "        numbers = pickle.load(file)"
   ]
  },
  {
   "cell_type": "code",
   "execution_count": 87,
   "metadata": {
    "collapsed": true
   },
   "outputs": [],
   "source": [
    "with open('numbers.pkl', 'rb') as file:\n",
    "    numbers = pickle.load(file)"
   ]
  },
  {
   "cell_type": "markdown",
   "metadata": {},
   "source": [
    "### 2.1 Confirm that `numbers` is indeed a list"
   ]
  },
  {
   "cell_type": "code",
   "execution_count": 88,
   "metadata": {},
   "outputs": [
    {
     "data": {
      "text/plain": [
       "list"
      ]
     },
     "execution_count": 88,
     "metadata": {},
     "output_type": "execute_result"
    }
   ],
   "source": [
    "type(numbers)"
   ]
  },
  {
   "cell_type": "markdown",
   "metadata": {},
   "source": [
    "### 2.2 How many items are in `numbers`?"
   ]
  },
  {
   "cell_type": "code",
   "execution_count": 89,
   "metadata": {},
   "outputs": [
    {
     "data": {
      "text/plain": [
       "2519"
      ]
     },
     "execution_count": 89,
     "metadata": {},
     "output_type": "execute_result"
    }
   ],
   "source": [
    "len(numbers)"
   ]
  },
  {
   "cell_type": "markdown",
   "metadata": {},
   "source": [
    "### 2.3 What is the difference between the first and last values?"
   ]
  },
  {
   "cell_type": "code",
   "execution_count": 90,
   "metadata": {},
   "outputs": [
    {
     "data": {
      "text/plain": [
       "-8827.208984375"
      ]
     },
     "execution_count": 90,
     "metadata": {},
     "output_type": "execute_result"
    }
   ],
   "source": [
    "numbers[0]-numbers[-1]"
   ]
  },
  {
   "cell_type": "markdown",
   "metadata": {},
   "source": [
    "Magnitude of difference is:"
   ]
  },
  {
   "cell_type": "code",
   "execution_count": 91,
   "metadata": {},
   "outputs": [
    {
     "data": {
      "text/plain": [
       "8827.208984375"
      ]
     },
     "execution_count": 91,
     "metadata": {},
     "output_type": "execute_result"
    }
   ],
   "source": [
    "abs(numbers[0]-numbers[-1])"
   ]
  },
  {
   "cell_type": "markdown",
   "metadata": {},
   "source": [
    "### 2.4 What are thre first five and last five items?"
   ]
  },
  {
   "cell_type": "code",
   "execution_count": 92,
   "metadata": {
    "scrolled": true
   },
   "outputs": [
    {
     "name": "stdout",
     "output_type": "stream",
     "text": [
      "First five:  [13291.650390625, 13424.8798828125, 13442.51953125, 13403.419921875, 13739.3896484375]\n",
      "Last five:  [21807.640625, 21784.779296875, 21797.7890625, 22057.369140625, 22118.859375]\n"
     ]
    }
   ],
   "source": [
    "print('First five: ',numbers[:5])\n",
    "print('Last five: ',numbers[-5:])"
   ]
  },
  {
   "cell_type": "markdown",
   "metadata": {},
   "source": [
    "### 2.5 What is the type of the first item? Confirm that all items have the same type."
   ]
  },
  {
   "cell_type": "code",
   "execution_count": 93,
   "metadata": {},
   "outputs": [
    {
     "data": {
      "text/plain": [
       "float"
      ]
     },
     "execution_count": 93,
     "metadata": {},
     "output_type": "execute_result"
    }
   ],
   "source": [
    "type(numbers[0])"
   ]
  },
  {
   "cell_type": "code",
   "execution_count": 619,
   "metadata": {
    "scrolled": true
   },
   "outputs": [
    {
     "name": "stdout",
     "output_type": "stream",
     "text": [
      "All are floats\n"
     ]
    }
   ],
   "source": [
    "for i in range(len(numbers)):\n",
    "    if type(numbers[i]) is float:\n",
    "        print('All are floats')\n",
    "        break\n",
    "    else:\n",
    "        print('Not all items are the same type')"
   ]
  },
  {
   "cell_type": "markdown",
   "metadata": {},
   "source": [
    "### 2.6 What are the minimum and maximum values in `numbers`?"
   ]
  },
  {
   "cell_type": "code",
   "execution_count": 95,
   "metadata": {},
   "outputs": [
    {
     "name": "stdout",
     "output_type": "stream",
     "text": [
      "(minimum, maximum) = (6547.0498046875, 22118.859375)\n"
     ]
    }
   ],
   "source": [
    "print('(minimum, maximum) =', (min(numbers), max(numbers)))"
   ]
  },
  {
   "cell_type": "markdown",
   "metadata": {},
   "source": [
    "### 2.7 What is the mean value?"
   ]
  },
  {
   "cell_type": "code",
   "execution_count": 96,
   "metadata": {},
   "outputs": [
    {
     "name": "stdout",
     "output_type": "stream",
     "text": [
      "mean = 14174.955465222125\n"
     ]
    }
   ],
   "source": [
    "mean = sum(numbers)/len(numbers)\n",
    "print('mean =', mean)"
   ]
  },
  {
   "cell_type": "markdown",
   "metadata": {},
   "source": [
    "### 2.8 What is the standard deviation?"
   ]
  },
  {
   "cell_type": "code",
   "execution_count": 97,
   "metadata": {},
   "outputs": [
    {
     "data": {
      "text/plain": [
       "3568.729182942298"
      ]
     },
     "execution_count": 97,
     "metadata": {},
     "output_type": "execute_result"
    }
   ],
   "source": [
    "a=[(numbers[i]-mean)**2 for i in range(len(numbers))]\n",
    "(sum(a)/len(numbers))**0.5 #check the formula"
   ]
  },
  {
   "cell_type": "markdown",
   "metadata": {},
   "source": [
    "### 2.9 What is the largest (most positive) and smallest (most negative)  _change_ from one value to the next"
   ]
  },
  {
   "cell_type": "code",
   "execution_count": 98,
   "metadata": {},
   "outputs": [
    {
     "name": "stdout",
     "output_type": "stream",
     "text": [
      "Largest positive change:  [777.6796875] ; Largest negative change:  [-936.419921875]\n"
     ]
    }
   ],
   "source": [
    "change=[]\n",
    "i=0\n",
    "while i < len(numbers)-1:\n",
    "    change.append([numbers[i]-numbers[i+1]])\n",
    "    i+=1\n",
    "print('Largest positive change: ',max(change),'; Largest negative change: ',min(change))"
   ]
  },
  {
   "cell_type": "markdown",
   "metadata": {},
   "source": [
    "### Bonus: can you guess the source of these numbers? \n",
    "*Answer: the Dow Jones industrial average, 10 year chart*"
   ]
  },
  {
   "cell_type": "markdown",
   "metadata": {},
   "source": [
    "## 3 Lists vs. Tuples\n",
    "\n",
    "The difference between [lists](https://docs.python.org/3/tutorial/datastructures.html#more-on-lists) and [tuples](https://docs.python.org/3/tutorial/datastructures.html#tuples-and-sequences) is a persistent source of confusion about python. The key difference is that **lists are mutable** while **tuples are immutable**. This short exercise is designed to help you understand what this means."
   ]
  },
  {
   "cell_type": "markdown",
   "metadata": {},
   "source": [
    "### 3.1 Create a list of the first three planets in the solar system"
   ]
  },
  {
   "cell_type": "code",
   "execution_count": 99,
   "metadata": {
    "collapsed": true
   },
   "outputs": [],
   "source": [
    "planets = ['Mercury','Venus','Earth']"
   ]
  },
  {
   "cell_type": "markdown",
   "metadata": {
    "collapsed": true
   },
   "source": [
    "### 3.2 Append the fourth planet to the end of the list\n",
    "(Print the list so you can verify its contents after every modification)"
   ]
  },
  {
   "cell_type": "code",
   "execution_count": 100,
   "metadata": {},
   "outputs": [
    {
     "data": {
      "text/plain": [
       "['Mercury', 'Venus', 'Earth', 'Mars']"
      ]
     },
     "execution_count": 100,
     "metadata": {},
     "output_type": "execute_result"
    }
   ],
   "source": [
    "planets.append('Mars')\n",
    "planets"
   ]
  },
  {
   "cell_type": "markdown",
   "metadata": {},
   "source": [
    "### 3.3 Venus has exploded. Remove it from the list"
   ]
  },
  {
   "cell_type": "code",
   "execution_count": 101,
   "metadata": {},
   "outputs": [
    {
     "data": {
      "text/plain": [
       "['Mercury', 'Earth', 'Mars']"
      ]
     },
     "execution_count": 101,
     "metadata": {},
     "output_type": "execute_result"
    }
   ],
   "source": [
    "planets.remove('Venus')\n",
    "planets"
   ]
  },
  {
   "cell_type": "markdown",
   "metadata": {},
   "source": [
    "### 3.4 Convert the last item of your list to upper case"
   ]
  },
  {
   "cell_type": "code",
   "execution_count": 102,
   "metadata": {},
   "outputs": [
    {
     "data": {
      "text/plain": [
       "['Mercury', 'Earth', 'MARS']"
      ]
     },
     "execution_count": 102,
     "metadata": {},
     "output_type": "execute_result"
    }
   ],
   "source": [
    "planets[-1] = planets[-1].upper()\n",
    "planets"
   ]
  },
  {
   "cell_type": "markdown",
   "metadata": {},
   "source": [
    "### 3.5 Create a tuple of the first three planets in the solar system"
   ]
  },
  {
   "cell_type": "code",
   "execution_count": 103,
   "metadata": {},
   "outputs": [
    {
     "data": {
      "text/plain": [
       "('Mercury', 'Venus', 'Earth')"
      ]
     },
     "execution_count": 103,
     "metadata": {},
     "output_type": "execute_result"
    }
   ],
   "source": [
    "planetuple = ('Mercury','Venus','Earth')\n",
    "planetuple"
   ]
  },
  {
   "cell_type": "markdown",
   "metadata": {},
   "source": [
    "### 3.6 Try to append or remove items from the tuple\n",
    "Go ahead, try it! I dare you!"
   ]
  },
  {
   "cell_type": "code",
   "execution_count": 105,
   "metadata": {},
   "outputs": [
    {
     "ename": "AttributeError",
     "evalue": "'tuple' object has no attribute 'append'",
     "output_type": "error",
     "traceback": [
      "\u001b[1;31m---------------------------------------------------------------------------\u001b[0m",
      "\u001b[1;31mAttributeError\u001b[0m                            Traceback (most recent call last)",
      "\u001b[1;32m<ipython-input-105-495daaa2220b>\u001b[0m in \u001b[0;36m<module>\u001b[1;34m()\u001b[0m\n\u001b[1;32m----> 1\u001b[1;33m \u001b[0mplanetuple\u001b[0m\u001b[1;33m.\u001b[0m\u001b[0mappend\u001b[0m\u001b[1;33m(\u001b[0m\u001b[1;34m'Alderaan'\u001b[0m\u001b[1;33m)\u001b[0m\u001b[1;33m\u001b[0m\u001b[0m\n\u001b[0m\u001b[0;32m      2\u001b[0m \u001b[0mplanetuple\u001b[0m\u001b[1;33m\u001b[0m\u001b[0m\n",
      "\u001b[1;31mAttributeError\u001b[0m: 'tuple' object has no attribute 'append'"
     ]
    }
   ],
   "source": [
    "planetuple.append('Alderaan')\n",
    "planetuple"
   ]
  },
  {
   "cell_type": "markdown",
   "metadata": {},
   "source": [
    "### 3.7 Create a new tuple by concatenating a second tuple to your original tuple\n",
    "(No loops needed). It should work. Check your original tuple. Did it change?"
   ]
  },
  {
   "cell_type": "code",
   "execution_count": 106,
   "metadata": {},
   "outputs": [
    {
     "data": {
      "text/plain": [
       "('Mercury', 'Venus', 'Earth', 'apples', 'bananas', 'syrup')"
      ]
     },
     "execution_count": 106,
     "metadata": {},
     "output_type": "execute_result"
    }
   ],
   "source": [
    "planetuple = planetuple + ('apples','bananas','syrup')\n",
    "planetuple"
   ]
  },
  {
   "cell_type": "markdown",
   "metadata": {},
   "source": [
    "## 4 Standard Library: `datetime`\n",
    "\n",
    "Basic python comes with a powerful [\"standard library\"](https://docs.python.org/3/tutorial/stdlib.html) of modules which help you do useful things like interact with the operating system, perform complex pattern matching on strings using regular expressions, and open network connections. This standard library is too big for us to learn every module: the point here is just to be aware that it exists.\n",
    "\n",
    "In this exercise we will also explore a simple but powerful module from python's standard library: the [`datetime` module](https://docs.python.org/3/tutorial/stdlib.html#dates-and-times)."
   ]
  },
  {
   "cell_type": "markdown",
   "metadata": {},
   "source": [
    "### 4.1 Import the datetime module"
   ]
  },
  {
   "cell_type": "code",
   "execution_count": 107,
   "metadata": {
    "collapsed": true
   },
   "outputs": [],
   "source": [
    "import datetime as dt"
   ]
  },
  {
   "cell_type": "markdown",
   "metadata": {},
   "source": [
    "### 4.2 Read the built-in help on `datetime.date` and `datetime.timedelta`\n",
    "\n",
    "These are the two functions we will be using from the `datetime` module."
   ]
  },
  {
   "cell_type": "code",
   "execution_count": 108,
   "metadata": {
    "scrolled": true
   },
   "outputs": [
    {
     "name": "stdout",
     "output_type": "stream",
     "text": [
      "Help on class date in module datetime:\n",
      "\n",
      "class date(builtins.object)\n",
      " |  date(year, month, day) --> date object\n",
      " |  \n",
      " |  Methods defined here:\n",
      " |  \n",
      " |  __add__(self, value, /)\n",
      " |      Return self+value.\n",
      " |  \n",
      " |  __eq__(self, value, /)\n",
      " |      Return self==value.\n",
      " |  \n",
      " |  __format__(...)\n",
      " |      Formats self with strftime.\n",
      " |  \n",
      " |  __ge__(self, value, /)\n",
      " |      Return self>=value.\n",
      " |  \n",
      " |  __getattribute__(self, name, /)\n",
      " |      Return getattr(self, name).\n",
      " |  \n",
      " |  __gt__(self, value, /)\n",
      " |      Return self>value.\n",
      " |  \n",
      " |  __hash__(self, /)\n",
      " |      Return hash(self).\n",
      " |  \n",
      " |  __le__(self, value, /)\n",
      " |      Return self<=value.\n",
      " |  \n",
      " |  __lt__(self, value, /)\n",
      " |      Return self<value.\n",
      " |  \n",
      " |  __ne__(self, value, /)\n",
      " |      Return self!=value.\n",
      " |  \n",
      " |  __new__(*args, **kwargs) from builtins.type\n",
      " |      Create and return a new object.  See help(type) for accurate signature.\n",
      " |  \n",
      " |  __radd__(self, value, /)\n",
      " |      Return value+self.\n",
      " |  \n",
      " |  __reduce__(...)\n",
      " |      __reduce__() -> (cls, state)\n",
      " |  \n",
      " |  __repr__(self, /)\n",
      " |      Return repr(self).\n",
      " |  \n",
      " |  __rsub__(self, value, /)\n",
      " |      Return value-self.\n",
      " |  \n",
      " |  __str__(self, /)\n",
      " |      Return str(self).\n",
      " |  \n",
      " |  __sub__(self, value, /)\n",
      " |      Return self-value.\n",
      " |  \n",
      " |  ctime(...)\n",
      " |      Return ctime() style string.\n",
      " |  \n",
      " |  fromordinal(...) from builtins.type\n",
      " |      int -> date corresponding to a proleptic Gregorian ordinal.\n",
      " |  \n",
      " |  fromtimestamp(...) from builtins.type\n",
      " |      timestamp -> local date from a POSIX timestamp (like time.time()).\n",
      " |  \n",
      " |  isocalendar(...)\n",
      " |      Return a 3-tuple containing ISO year, week number, and weekday.\n",
      " |  \n",
      " |  isoformat(...)\n",
      " |      Return string in ISO 8601 format, YYYY-MM-DD.\n",
      " |  \n",
      " |  isoweekday(...)\n",
      " |      Return the day of the week represented by the date.\n",
      " |      Monday == 1 ... Sunday == 7\n",
      " |  \n",
      " |  replace(...)\n",
      " |      Return date with new specified fields.\n",
      " |  \n",
      " |  strftime(...)\n",
      " |      format -> strftime() style string.\n",
      " |  \n",
      " |  timetuple(...)\n",
      " |      Return time tuple, compatible with time.localtime().\n",
      " |  \n",
      " |  today(...) from builtins.type\n",
      " |      Current date or datetime:  same as self.__class__.fromtimestamp(time.time()).\n",
      " |  \n",
      " |  toordinal(...)\n",
      " |      Return proleptic Gregorian ordinal.  January 1 of year 1 is day 1.\n",
      " |  \n",
      " |  weekday(...)\n",
      " |      Return the day of the week represented by the date.\n",
      " |      Monday == 0 ... Sunday == 6\n",
      " |  \n",
      " |  ----------------------------------------------------------------------\n",
      " |  Data descriptors defined here:\n",
      " |  \n",
      " |  day\n",
      " |  \n",
      " |  month\n",
      " |  \n",
      " |  year\n",
      " |  \n",
      " |  ----------------------------------------------------------------------\n",
      " |  Data and other attributes defined here:\n",
      " |  \n",
      " |  max = datetime.date(9999, 12, 31)\n",
      " |  \n",
      " |  min = datetime.date(1, 1, 1)\n",
      " |  \n",
      " |  resolution = datetime.timedelta(1)\n",
      "\n"
     ]
    }
   ],
   "source": [
    "help(dt.date)"
   ]
  },
  {
   "cell_type": "code",
   "execution_count": 109,
   "metadata": {
    "scrolled": true
   },
   "outputs": [
    {
     "name": "stdout",
     "output_type": "stream",
     "text": [
      "Help on class timedelta in module datetime:\n",
      "\n",
      "class timedelta(builtins.object)\n",
      " |  Difference between two datetime values.\n",
      " |  \n",
      " |  Methods defined here:\n",
      " |  \n",
      " |  __abs__(self, /)\n",
      " |      abs(self)\n",
      " |  \n",
      " |  __add__(self, value, /)\n",
      " |      Return self+value.\n",
      " |  \n",
      " |  __bool__(self, /)\n",
      " |      self != 0\n",
      " |  \n",
      " |  __divmod__(self, value, /)\n",
      " |      Return divmod(self, value).\n",
      " |  \n",
      " |  __eq__(self, value, /)\n",
      " |      Return self==value.\n",
      " |  \n",
      " |  __floordiv__(self, value, /)\n",
      " |      Return self//value.\n",
      " |  \n",
      " |  __ge__(self, value, /)\n",
      " |      Return self>=value.\n",
      " |  \n",
      " |  __getattribute__(self, name, /)\n",
      " |      Return getattr(self, name).\n",
      " |  \n",
      " |  __gt__(self, value, /)\n",
      " |      Return self>value.\n",
      " |  \n",
      " |  __hash__(self, /)\n",
      " |      Return hash(self).\n",
      " |  \n",
      " |  __le__(self, value, /)\n",
      " |      Return self<=value.\n",
      " |  \n",
      " |  __lt__(self, value, /)\n",
      " |      Return self<value.\n",
      " |  \n",
      " |  __mod__(self, value, /)\n",
      " |      Return self%value.\n",
      " |  \n",
      " |  __mul__(self, value, /)\n",
      " |      Return self*value.\n",
      " |  \n",
      " |  __ne__(self, value, /)\n",
      " |      Return self!=value.\n",
      " |  \n",
      " |  __neg__(self, /)\n",
      " |      -self\n",
      " |  \n",
      " |  __new__(*args, **kwargs) from builtins.type\n",
      " |      Create and return a new object.  See help(type) for accurate signature.\n",
      " |  \n",
      " |  __pos__(self, /)\n",
      " |      +self\n",
      " |  \n",
      " |  __radd__(self, value, /)\n",
      " |      Return value+self.\n",
      " |  \n",
      " |  __rdivmod__(self, value, /)\n",
      " |      Return divmod(value, self).\n",
      " |  \n",
      " |  __reduce__(...)\n",
      " |      __reduce__() -> (cls, state)\n",
      " |  \n",
      " |  __repr__(self, /)\n",
      " |      Return repr(self).\n",
      " |  \n",
      " |  __rfloordiv__(self, value, /)\n",
      " |      Return value//self.\n",
      " |  \n",
      " |  __rmod__(self, value, /)\n",
      " |      Return value%self.\n",
      " |  \n",
      " |  __rmul__(self, value, /)\n",
      " |      Return value*self.\n",
      " |  \n",
      " |  __rsub__(self, value, /)\n",
      " |      Return value-self.\n",
      " |  \n",
      " |  __rtruediv__(self, value, /)\n",
      " |      Return value/self.\n",
      " |  \n",
      " |  __str__(self, /)\n",
      " |      Return str(self).\n",
      " |  \n",
      " |  __sub__(self, value, /)\n",
      " |      Return self-value.\n",
      " |  \n",
      " |  __truediv__(self, value, /)\n",
      " |      Return self/value.\n",
      " |  \n",
      " |  total_seconds(...)\n",
      " |      Total seconds in the duration.\n",
      " |  \n",
      " |  ----------------------------------------------------------------------\n",
      " |  Data descriptors defined here:\n",
      " |  \n",
      " |  days\n",
      " |      Number of days.\n",
      " |  \n",
      " |  microseconds\n",
      " |      Number of microseconds (>= 0 and less than 1 second).\n",
      " |  \n",
      " |  seconds\n",
      " |      Number of seconds (>= 0 and less than 1 day).\n",
      " |  \n",
      " |  ----------------------------------------------------------------------\n",
      " |  Data and other attributes defined here:\n",
      " |  \n",
      " |  max = datetime.timedelta(999999999, 86399, 999999)\n",
      " |  \n",
      " |  min = datetime.timedelta(-999999999)\n",
      " |  \n",
      " |  resolution = datetime.timedelta(0, 0, 1)\n",
      "\n"
     ]
    }
   ],
   "source": [
    "help(dt.timedelta)"
   ]
  },
  {
   "cell_type": "markdown",
   "metadata": {},
   "source": [
    "### 4.3 Create a `datetime.date` object for your birthday"
   ]
  },
  {
   "cell_type": "code",
   "execution_count": 110,
   "metadata": {},
   "outputs": [
    {
     "data": {
      "text/plain": [
       "datetime.date(1994, 11, 15)"
      ]
     },
     "execution_count": 110,
     "metadata": {},
     "output_type": "execute_result"
    }
   ],
   "source": [
    "birthday = dt.date(1994,11,15)\n",
    "birthday"
   ]
  },
  {
   "cell_type": "markdown",
   "metadata": {},
   "source": [
    "### 4.4 What day of the week was your birthday on?"
   ]
  },
  {
   "cell_type": "code",
   "execution_count": 111,
   "metadata": {},
   "outputs": [
    {
     "name": "stdout",
     "output_type": "stream",
     "text": [
      "I was born on a Tuesday\n"
     ]
    }
   ],
   "source": [
    "Days=['Monday','Tuesday','Wednesday','Thursday','Friday','Saturday','Sunday']\n",
    "print('I was born on a',Days[birthday.isoweekday() - 1])"
   ]
  },
  {
   "cell_type": "markdown",
   "metadata": {
    "collapsed": true
   },
   "source": [
    "### 4.5 Find out how many days have elapsed since your birthday?"
   ]
  },
  {
   "cell_type": "code",
   "execution_count": 129,
   "metadata": {
    "scrolled": true
   },
   "outputs": [
    {
     "name": "stdout",
     "output_type": "stream",
     "text": [
      "The number of days elapsed since my birthday:  8345 days\n"
     ]
    }
   ],
   "source": [
    "age = dt.date.today() - birthday\n",
    "print('The number of days elapsed since my birthday: ',age.days, 'days')"
   ]
  },
  {
   "cell_type": "markdown",
   "metadata": {},
   "source": [
    "## 5 Functions\n",
    "\n",
    "Learning to write our own [functions](https://docs.python.org/3/tutorial/controlflow.html#defining-functions) is an important step towards writing more sophisticated programs. Here will will practice writing functions. "
   ]
  },
  {
   "cell_type": "markdown",
   "metadata": {},
   "source": [
    "As an example, we will consider the [harmonic series](https://en.wikipedia.org/wiki/Harmonic_series_%28mathematics%29), defined as\n",
    "\n",
    "$$\n",
    "\\sum^N_{n=1}\\frac{1}{n} \n",
    "$$\n",
    "\n",
    "This series diverges logarithmically.\n",
    "\n",
    "### 5.1 Write a function to compute the value of the harmonic series up to `N` terms\n",
    "\n",
    "The function shold have one argument: `N`. It should `return` the series sum."
   ]
  },
  {
   "cell_type": "code",
   "execution_count": 576,
   "metadata": {
    "collapsed": true
   },
   "outputs": [],
   "source": [
    "def harmonic_series(N):\n",
    "    return sum((1/n) for n in range(1,N+1))"
   ]
  },
  {
   "cell_type": "markdown",
   "metadata": {},
   "source": [
    "### 5.2 What is the value of the harmonic series after 1000 and 1000000 iterations"
   ]
  },
  {
   "cell_type": "code",
   "execution_count": 577,
   "metadata": {},
   "outputs": [
    {
     "data": {
      "text/plain": [
       "7.485470860550343"
      ]
     },
     "execution_count": 577,
     "metadata": {},
     "output_type": "execute_result"
    }
   ],
   "source": [
    "harmonic_series(1000)"
   ]
  },
  {
   "cell_type": "code",
   "execution_count": 578,
   "metadata": {},
   "outputs": [
    {
     "data": {
      "text/plain": [
       "14.392726722864989"
      ]
     },
     "execution_count": 578,
     "metadata": {},
     "output_type": "execute_result"
    }
   ],
   "source": [
    "harmonic_series(1000000)"
   ]
  },
  {
   "cell_type": "markdown",
   "metadata": {},
   "source": [
    "The alternating harmonic series:\n",
    "    \n",
    "$$\n",
    "\\sum^N_{n=1}\\frac{(-1)^{n+1}}{n} \n",
    "$$\n",
    "\n",
    "_does_ converge.\n",
    "\n",
    "### 5.3 Write a function to compute the value of the alternating  harmonic series up to `N` terms"
   ]
  },
  {
   "cell_type": "code",
   "execution_count": 579,
   "metadata": {
    "collapsed": true
   },
   "outputs": [],
   "source": [
    "def harmonic_alt(N):\n",
    "    return sum(((-1)**(n+1))/n for n in range(1,N+1))"
   ]
  },
  {
   "cell_type": "markdown",
   "metadata": {},
   "source": [
    "### 5.2 What is the value of the alternating harmonic series after 1000 and 1000000 iterations"
   ]
  },
  {
   "cell_type": "code",
   "execution_count": 580,
   "metadata": {},
   "outputs": [
    {
     "data": {
      "text/plain": [
       "0.6926474305598223"
      ]
     },
     "execution_count": 580,
     "metadata": {},
     "output_type": "execute_result"
    }
   ],
   "source": [
    "harmonic_alt(1000)"
   ]
  },
  {
   "cell_type": "code",
   "execution_count": 581,
   "metadata": {},
   "outputs": [
    {
     "data": {
      "text/plain": [
       "0.6931466805602525"
      ]
     },
     "execution_count": 581,
     "metadata": {},
     "output_type": "execute_result"
    }
   ],
   "source": [
    "harmonic_alt(1000000)"
   ]
  },
  {
   "cell_type": "markdown",
   "metadata": {},
   "source": [
    "### 5.3 Numerical convergence test\n",
    "\n",
    "Now for something more complicated: we will write a function that tests whether another function converges. As its first argument, this function should accept _another function_. It should also have _optional keyword arguments_ that specify\n",
    "\n",
    "* the numerical tolerance (how close is close enough to consider a series converged?)\n",
    "* the number of iterations (we can't iterate an infinite number of times, we just have to pick a \"large number\")\n",
    "\n",
    "This function should print a statement telling what it found. If the test function converges, print the value it converges to.\n",
    "\n",
    "_(Hint: the alernating harmonic series oscillates strongly around the asymptotic value. So checking neighboring points may not be the best way to test for convergence. Can you think of a more robust method?)_"
   ]
  },
  {
   "cell_type": "markdown",
   "metadata": {},
   "source": [
    "**1st Approach:**\n",
    "\n",
    "Answer: Series converges to 0.6931466805602525 at iteration no. `1000000`"
   ]
  },
  {
   "cell_type": "code",
   "execution_count": 583,
   "metadata": {},
   "outputs": [],
   "source": [
    "#The difference between the odd terms in the alternating series should be positive.\n",
    "#If the difference is negative, then the series diverges.\n",
    "\n",
    "def convergence_test(harmonic_alt,tolerance=0.00001,N=1000000):\n",
    "    if harmonic_alt(2*N-1) - harmonic_alt(2*N+1) < 0:\n",
    "        print('Series diverges.')\n",
    "    elif harmonic_alt(2*N-1) - harmonic_alt(2*N+1) > 0:\n",
    "        if abs(harmonic_alt(N) - harmonic_alt(N+1)) <= tolerance:\n",
    "            print('Series converges to',harmonic_alt(N),'at iteration no.',N)\n",
    "        else:\n",
    "            print('Series is conditionally convergent. Try increasing iterations, N, or relaxing the tolerance.')"
   ]
  },
  {
   "cell_type": "code",
   "execution_count": 584,
   "metadata": {},
   "outputs": [
    {
     "name": "stdout",
     "output_type": "stream",
     "text": [
      "Series converges to 0.6931466805602525 at iteration no. 1000000\n"
     ]
    }
   ],
   "source": [
    "convergence_test(harmonic_alt)"
   ]
  },
  {
   "cell_type": "code",
   "execution_count": 585,
   "metadata": {},
   "outputs": [
    {
     "name": "stdout",
     "output_type": "stream",
     "text": [
      "Series diverges.\n"
     ]
    }
   ],
   "source": [
    "convergence_test(harmonic_series)"
   ]
  },
  {
   "cell_type": "markdown",
   "metadata": {},
   "source": [
    "**2nd Approach: my nested if statements makes it super slow to test more iterations** I wanted to print iteration no. at which convergence was reached.\n",
    "\n",
    "Answer: The series converges to 0.6921481805579461 at iteration no. 500"
   ]
  },
  {
   "cell_type": "code",
   "execution_count": 589,
   "metadata": {
    "scrolled": true
   },
   "outputs": [],
   "source": [
    "#The difference between the odd terms in the alternating series should be positive.\n",
    "#If the difference is negative, then the series diverges.\n",
    "#If positive, and the difference is also below the tolerance, then the series is considered to converge.\n",
    "#The alternating harmonic series converges conditionally, so a tradeoff must be met between the tolerance and number of iterations.\n",
    "\n",
    "def convergence_test_2(harmonic_alt,tolerance=0.000001,N=2000):\n",
    "    difference = [harmonic_alt((2*i)-1)-harmonic_alt((2*i)+1) for i in range(1,N+1)]\n",
    "    for val in range(len(difference)):\n",
    "        if difference[val] > 0:\n",
    "            if difference[val] <= tolerance:\n",
    "                print('The series converges to',harmonic_alt(val+1),'at iteration no.', val+1)\n",
    "                break\n",
    "        else:\n",
    "            print('The series diverges.')\n",
    "            break\n",
    "    if difference[-1] > tolerance:\n",
    "        print('The series converges conditionally. Try changing the arguments by increasing the number of iterations, N, or by relaxing the numerical tolerance.')"
   ]
  },
  {
   "cell_type": "code",
   "execution_count": 590,
   "metadata": {},
   "outputs": [
    {
     "name": "stdout",
     "output_type": "stream",
     "text": [
      "The series converges to 0.6921481805579461 at iteration no. 500\n"
     ]
    }
   ],
   "source": [
    "convergence_test_2(harmonic_alt)"
   ]
  },
  {
   "cell_type": "code",
   "execution_count": 592,
   "metadata": {},
   "outputs": [
    {
     "name": "stdout",
     "output_type": "stream",
     "text": [
      "The series diverges.\n"
     ]
    }
   ],
   "source": [
    "convergence_test_2(harmonic_series)"
   ]
  },
  {
   "cell_type": "markdown",
   "metadata": {},
   "source": [
    "### 5.3 Use your convergence test function see that the harmonic series diverges and the alternating harmonic series converges?\n",
    "\n",
    "Explore the sensitivity to the two optional parameters. What are the tradeoffs between tolerance and number of iterations?"
   ]
  },
  {
   "cell_type": "code",
   "execution_count": 593,
   "metadata": {},
   "outputs": [
    {
     "name": "stdout",
     "output_type": "stream",
     "text": [
      "Series diverges.\n"
     ]
    }
   ],
   "source": [
    "convergence_test(harmonic_series) #Diverging series"
   ]
  },
  {
   "cell_type": "code",
   "execution_count": 595,
   "metadata": {},
   "outputs": [
    {
     "name": "stdout",
     "output_type": "stream",
     "text": [
      "Series converges to 0.6931466805602525 at iteration no. 1000000\n"
     ]
    }
   ],
   "source": [
    "convergence_test(harmonic_alt) #Alternating series converges to the 'natural log of 2'"
   ]
  },
  {
   "cell_type": "code",
   "execution_count": 596,
   "metadata": {},
   "outputs": [
    {
     "name": "stdout",
     "output_type": "stream",
     "text": [
      "The series diverges.\n"
     ]
    }
   ],
   "source": [
    "convergence_test_2(harmonic_series) #2nd approach is also able to test for convergence/divergence."
   ]
  },
  {
   "cell_type": "code",
   "execution_count": 597,
   "metadata": {},
   "outputs": [
    {
     "name": "stdout",
     "output_type": "stream",
     "text": [
      "The series converges to 0.6921481805579461 at iteration no. 500\n"
     ]
    }
   ],
   "source": [
    "convergence_test_2(harmonic_alt) #The fewer iterations has resulted in a less accurate answer than in the first approach."
   ]
  },
  {
   "cell_type": "markdown",
   "metadata": {},
   "source": [
    "### Answer:\n",
    "\n",
    "Using fewer iterations results in a less accurate converging value, as does relaxing the tolerance. Vice versa.\n",
    "**Tradeoffs:** The higher the tolerance (more relaxed), the greater the number of iterations, N, needed to get to the sum of the alternating harmonic series, ln(2). Vice versa."
   ]
  }
 ],
 "metadata": {
  "kernelspec": {
   "display_name": "Python 3",
   "language": "python",
   "name": "python3"
  },
  "language_info": {
   "codemirror_mode": {
    "name": "ipython",
    "version": 3
   },
   "file_extension": ".py",
   "mimetype": "text/x-python",
   "name": "python",
   "nbconvert_exporter": "python",
   "pygments_lexer": "ipython3",
   "version": "3.6.1"
  }
 },
 "nbformat": 4,
 "nbformat_minor": 2
}
