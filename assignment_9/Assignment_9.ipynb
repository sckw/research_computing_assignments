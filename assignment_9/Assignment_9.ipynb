{
 "cells": [
  {
   "cell_type": "code",
   "execution_count": 268,
   "metadata": {},
   "outputs": [],
   "source": [
    "from mpl_toolkits.basemap import Basemap\n",
    "import numpy as np\n",
    "import matplotlib.pyplot as plt\n",
    "import pandas as pd\n",
    "from matplotlib import gridspec\n",
    "\n",
    "%matplotlib inline"
   ]
  },
  {
   "cell_type": "markdown",
   "metadata": {},
   "source": [
    "# Part 1"
   ]
  },
  {
   "cell_type": "code",
   "execution_count": 269,
   "metadata": {},
   "outputs": [],
   "source": [
    "data = pd.read_table('AASZ_topo.txt', header=1)                       # load data"
   ]
  },
  {
   "cell_type": "code",
   "execution_count": 270,
   "metadata": {},
   "outputs": [
    {
     "data": {
      "text/html": [
       "<div>\n",
       "<style>\n",
       "    .dataframe thead tr:only-child th {\n",
       "        text-align: right;\n",
       "    }\n",
       "\n",
       "    .dataframe thead th {\n",
       "        text-align: left;\n",
       "    }\n",
       "\n",
       "    .dataframe tbody tr th {\n",
       "        vertical-align: top;\n",
       "    }\n",
       "</style>\n",
       "<table border=\"1\" class=\"dataframe\">\n",
       "  <thead>\n",
       "    <tr style=\"text-align: right;\">\n",
       "      <th></th>\n",
       "      <th>Longitude</th>\n",
       "      <th>Latitude</th>\n",
       "      <th>Distance (km)</th>\n",
       "      <th>Elevation (m)</th>\n",
       "    </tr>\n",
       "  </thead>\n",
       "  <tbody>\n",
       "    <tr>\n",
       "      <th>0</th>\n",
       "      <td>-159.30000</td>\n",
       "      <td>52.200000</td>\n",
       "      <td>0.000000</td>\n",
       "      <td>-4724.4414</td>\n",
       "    </tr>\n",
       "    <tr>\n",
       "      <th>1</th>\n",
       "      <td>-159.30617</td>\n",
       "      <td>52.212320</td>\n",
       "      <td>1.432806</td>\n",
       "      <td>-4720.9270</td>\n",
       "    </tr>\n",
       "    <tr>\n",
       "      <th>2</th>\n",
       "      <td>-159.31232</td>\n",
       "      <td>52.224640</td>\n",
       "      <td>2.865611</td>\n",
       "      <td>-4721.0186</td>\n",
       "    </tr>\n",
       "    <tr>\n",
       "      <th>3</th>\n",
       "      <td>-159.31850</td>\n",
       "      <td>52.236958</td>\n",
       "      <td>4.298417</td>\n",
       "      <td>-4722.9375</td>\n",
       "    </tr>\n",
       "    <tr>\n",
       "      <th>4</th>\n",
       "      <td>-159.32466</td>\n",
       "      <td>52.249280</td>\n",
       "      <td>5.731223</td>\n",
       "      <td>-4727.7090</td>\n",
       "    </tr>\n",
       "  </tbody>\n",
       "</table>\n",
       "</div>"
      ],
      "text/plain": [
       "   Longitude   Latitude  Distance (km)  Elevation (m)\n",
       "0 -159.30000  52.200000       0.000000     -4724.4414\n",
       "1 -159.30617  52.212320       1.432806     -4720.9270\n",
       "2 -159.31232  52.224640       2.865611     -4721.0186\n",
       "3 -159.31850  52.236958       4.298417     -4722.9375\n",
       "4 -159.32466  52.249280       5.731223     -4727.7090"
      ]
     },
     "execution_count": 270,
     "metadata": {},
     "output_type": "execute_result"
    }
   ],
   "source": [
    "data.head()"
   ]
  },
  {
   "cell_type": "code",
   "execution_count": 271,
   "metadata": {},
   "outputs": [
    {
     "data": {
      "text/html": [
       "<div>\n",
       "<style>\n",
       "    .dataframe thead tr:only-child th {\n",
       "        text-align: right;\n",
       "    }\n",
       "\n",
       "    .dataframe thead th {\n",
       "        text-align: left;\n",
       "    }\n",
       "\n",
       "    .dataframe tbody tr th {\n",
       "        vertical-align: top;\n",
       "    }\n",
       "</style>\n",
       "<table border=\"1\" class=\"dataframe\">\n",
       "  <thead>\n",
       "    <tr style=\"text-align: right;\">\n",
       "      <th></th>\n",
       "      <th>longitude</th>\n",
       "      <th>latitude</th>\n",
       "      <th>distance</th>\n",
       "      <th>elevation</th>\n",
       "    </tr>\n",
       "  </thead>\n",
       "  <tbody>\n",
       "    <tr>\n",
       "      <th>0</th>\n",
       "      <td>-159.30000</td>\n",
       "      <td>52.200000</td>\n",
       "      <td>0.000000</td>\n",
       "      <td>-4724.4414</td>\n",
       "    </tr>\n",
       "    <tr>\n",
       "      <th>1</th>\n",
       "      <td>-159.30617</td>\n",
       "      <td>52.212320</td>\n",
       "      <td>1.432806</td>\n",
       "      <td>-4720.9270</td>\n",
       "    </tr>\n",
       "    <tr>\n",
       "      <th>2</th>\n",
       "      <td>-159.31232</td>\n",
       "      <td>52.224640</td>\n",
       "      <td>2.865611</td>\n",
       "      <td>-4721.0186</td>\n",
       "    </tr>\n",
       "    <tr>\n",
       "      <th>3</th>\n",
       "      <td>-159.31850</td>\n",
       "      <td>52.236958</td>\n",
       "      <td>4.298417</td>\n",
       "      <td>-4722.9375</td>\n",
       "    </tr>\n",
       "    <tr>\n",
       "      <th>4</th>\n",
       "      <td>-159.32466</td>\n",
       "      <td>52.249280</td>\n",
       "      <td>5.731223</td>\n",
       "      <td>-4727.7090</td>\n",
       "    </tr>\n",
       "  </tbody>\n",
       "</table>\n",
       "</div>"
      ],
      "text/plain": [
       "   longitude   latitude  distance  elevation\n",
       "0 -159.30000  52.200000  0.000000 -4724.4414\n",
       "1 -159.30617  52.212320  1.432806 -4720.9270\n",
       "2 -159.31232  52.224640  2.865611 -4721.0186\n",
       "3 -159.31850  52.236958  4.298417 -4722.9375\n",
       "4 -159.32466  52.249280  5.731223 -4727.7090"
      ]
     },
     "execution_count": 271,
     "metadata": {},
     "output_type": "execute_result"
    }
   ],
   "source": [
    "data.columns = ['longitude','latitude','distance','elevation']         # rename DataFrame columns\n",
    "data.head()"
   ]
  },
  {
   "cell_type": "code",
   "execution_count": 303,
   "metadata": {},
   "outputs": [
    {
     "data": {
      "image/png": "[encoded data removed]",
      "text/plain": [
       "<matplotlib.figure.Figure at 0x1a12ee90400>"
      ]
     },
     "metadata": {},
     "output_type": "display_data"
    }
   ],
   "source": [
    "fig, axes = plt.subplots(nrows=2, ncols=1, sharex=True)\n",
    "\n",
    "data.elevation.plot(ax=axes[0])\n",
    "axes[0].set_ylabel('Elevation (m)')\n",
    "axes[0].set_xlabel('Distance (km)')\n",
    "axes[0].tick_params(direction='in')\n",
    "axes[0].set_title('Topography')\n",
    "\n",
    "h = data.distance[1]                                                  # single increment in distance (km)\n",
    "data['slope'] = pd.Series()\n",
    "for i in range(len(data)-2):                                          # central difference finite difference approximation\n",
    "    data.slope[i] = (np.arctan((data.elevation[i+2] - data.elevation[i]) / (2*h)) * 180) / np.pi\n",
    "for i in range(len(data)-2, len(data)):                               # backwards difference FDA for the last two\n",
    "    data.slope[i] = (np.arctan((data.elevation[i] - data.elevation[i-1]) / h) * 180) / np.pi     \n",
    "\n",
    "data.slope.plot(ax=axes[1])\n",
    "axes[1].set_ylabel('Slope (degrees)')\n",
    "axes[1].set_xlabel('Distance (km)')\n",
    "axes[1].set_title('Seafloor slope')\n",
    "plt.tight_layout()\n",
    "\n",
    "fig.savefig('AASZ_topo_slope.pdf')"
   ]
  },
  {
   "cell_type": "markdown",
   "metadata": {},
   "source": [
    "# Part 2"
   ]
  },
  {
   "cell_type": "code",
   "execution_count": 342,
   "metadata": {},
   "outputs": [
    {
     "data": {
      "text/html": [
       "<div>\n",
       "<style>\n",
       "    .dataframe thead tr:only-child th {\n",
       "        text-align: right;\n",
       "    }\n",
       "\n",
       "    .dataframe thead th {\n",
       "        text-align: left;\n",
       "    }\n",
       "\n",
       "    .dataframe tbody tr th {\n",
       "        vertical-align: top;\n",
       "    }\n",
       "</style>\n",
       "<table border=\"1\" class=\"dataframe\">\n",
       "  <thead>\n",
       "    <tr style=\"text-align: right;\">\n",
       "      <th></th>\n",
       "      <th>VNET</th>\n",
       "      <th>NET</th>\n",
       "      <th>STA</th>\n",
       "      <th>SITE DESCRIPTION</th>\n",
       "      <th>LAT</th>\n",
       "      <th>LON</th>\n",
       "      <th>ELEV</th>\n",
       "      <th>START</th>\n",
       "      <th>END</th>\n",
       "      <th>STATUS</th>\n",
       "      <th>INSTALL</th>\n",
       "      <th>CERT</th>\n",
       "    </tr>\n",
       "  </thead>\n",
       "  <tbody>\n",
       "    <tr>\n",
       "      <th>0</th>\n",
       "      <td>_US-TA</td>\n",
       "      <td>AK</td>\n",
       "      <td>ANM</td>\n",
       "      <td>Anvil Mountain, AK, USA</td>\n",
       "      <td>64.56</td>\n",
       "      <td>-165.37</td>\n",
       "      <td>338.0</td>\n",
       "      <td>2015-02-19</td>\n",
       "      <td>2599/12/31</td>\n",
       "      <td>Operating</td>\n",
       "      <td>2010/06/21</td>\n",
       "      <td>2015/02/20</td>\n",
       "    </tr>\n",
       "    <tr>\n",
       "      <th>1</th>\n",
       "      <td>_US-TA</td>\n",
       "      <td>AK</td>\n",
       "      <td>BGLC</td>\n",
       "      <td>Bering Glacier BLM Camp, AK, USA</td>\n",
       "      <td>60.12</td>\n",
       "      <td>-143.28</td>\n",
       "      <td>10.0</td>\n",
       "      <td>2015-02-19</td>\n",
       "      <td>2599/12/31</td>\n",
       "      <td>Operating</td>\n",
       "      <td>2013/01/01</td>\n",
       "      <td>2015/02/20</td>\n",
       "    </tr>\n",
       "    <tr>\n",
       "      <th>2</th>\n",
       "      <td>_US-TA</td>\n",
       "      <td>AK</td>\n",
       "      <td>BMR</td>\n",
       "      <td>Bremner River, AK, USA</td>\n",
       "      <td>60.97</td>\n",
       "      <td>-144.61</td>\n",
       "      <td>842.0</td>\n",
       "      <td>2015-02-19</td>\n",
       "      <td>2599/12/31</td>\n",
       "      <td>Operating</td>\n",
       "      <td>2000/08/07</td>\n",
       "      <td>2015/02/20</td>\n",
       "    </tr>\n",
       "    <tr>\n",
       "      <th>3</th>\n",
       "      <td>_US-TA</td>\n",
       "      <td>AK</td>\n",
       "      <td>BPAW</td>\n",
       "      <td>Bear Paw Mountain, AK, USA</td>\n",
       "      <td>64.10</td>\n",
       "      <td>-150.99</td>\n",
       "      <td>619.0</td>\n",
       "      <td>2015-02-19</td>\n",
       "      <td>2599/12/31</td>\n",
       "      <td>Operating</td>\n",
       "      <td>2004/05/13</td>\n",
       "      <td>2015/02/20</td>\n",
       "    </tr>\n",
       "    <tr>\n",
       "      <th>4</th>\n",
       "      <td>_US-TA</td>\n",
       "      <td>AK</td>\n",
       "      <td>BRSE</td>\n",
       "      <td>Bradley Lake South, AK, USA</td>\n",
       "      <td>59.74</td>\n",
       "      <td>-150.74</td>\n",
       "      <td>541.0</td>\n",
       "      <td>2015-02-19</td>\n",
       "      <td>2599/12/31</td>\n",
       "      <td>Operating</td>\n",
       "      <td>2013/07/01</td>\n",
       "      <td>2015/02/20</td>\n",
       "    </tr>\n",
       "  </tbody>\n",
       "</table>\n",
       "</div>"
      ],
      "text/plain": [
       "     VNET NET   STA                  SITE DESCRIPTION    LAT     LON   ELEV  \\\n",
       "0  _US-TA  AK   ANM           Anvil Mountain, AK, USA  64.56 -165.37  338.0   \n",
       "1  _US-TA  AK  BGLC  Bering Glacier BLM Camp, AK, USA  60.12 -143.28   10.0   \n",
       "2  _US-TA  AK   BMR            Bremner River, AK, USA  60.97 -144.61  842.0   \n",
       "3  _US-TA  AK  BPAW        Bear Paw Mountain, AK, USA  64.10 -150.99  619.0   \n",
       "4  _US-TA  AK  BRSE       Bradley Lake South, AK, USA  59.74 -150.74  541.0   \n",
       "\n",
       "       START         END     STATUS     INSTALL        CERT  \n",
       "0 2015-02-19  2599/12/31  Operating  2010/06/21  2015/02/20  \n",
       "1 2015-02-19  2599/12/31  Operating  2013/01/01  2015/02/20  \n",
       "2 2015-02-19  2599/12/31  Operating  2000/08/07  2015/02/20  \n",
       "3 2015-02-19  2599/12/31  Operating  2004/05/13  2015/02/20  \n",
       "4 2015-02-19  2599/12/31  Operating  2013/07/01  2015/02/20  "
      ]
     },
     "execution_count": 342,
     "metadata": {},
     "output_type": "execute_result"
    }
   ],
   "source": [
    "stations = pd.read_table('http://ds.iris.edu/files/earthscope/usarray/_US-TA-StationList.txt', parse_dates=[7])\n",
    "stations.head()"
   ]
  },
  {
   "cell_type": "markdown",
   "metadata": {},
   "source": [
    "### GMT script: run assignment_9.sh script on GMT (takes about 15 seconds to run)"
   ]
  }
 ],
 "metadata": {
  "kernelspec": {
   "display_name": "Python 3",
   "language": "python",
   "name": "python3"
  },
  "language_info": {
   "codemirror_mode": {
    "name": "ipython",
    "version": 3
   },
   "file_extension": ".py",
   "mimetype": "text/x-python",
   "name": "python",
   "nbconvert_exporter": "python",
   "pygments_lexer": "ipython3",
   "version": "3.6.3"
  }
 },
 "nbformat": 4,
 "nbformat_minor": 2
}
